{
 "metadata": {
  "name": "",
  "signature": "sha256:928495ee2998fb39b2ba711e69dac8136ddb7066e43598c749e477219c61cc93"
 },
 "nbformat": 3,
 "nbformat_minor": 0,
 "worksheets": [
  {
   "cells": [
    {
     "cell_type": "code",
     "collapsed": false,
     "input": [
      "cd D:/Python/Amadeus-hiring-test/"
     ],
     "language": "python",
     "metadata": {},
     "outputs": [
      {
       "output_type": "stream",
       "stream": "stdout",
       "text": [
        "D:\\Python\\Amadeus-hiring-test\n"
       ]
      }
     ],
     "prompt_number": 2
    },
    {
     "cell_type": "heading",
     "level": 1,
     "metadata": {},
     "source": [
      "Excercise 3:  match searches with bookings "
     ]
    },
    {
     "cell_type": "markdown",
     "metadata": {},
     "source": [
      "For every search in the searches file, find out whether the search ended up in a booking or not (using the info in the bookings file). For instance, search and booking origin and destination should match. For the bookings file, origin and destination are the columns dep_port and arr_port, respectively. \n",
      "Generate a CSV file with the search data, and an additional field, containing 1 if the search ended up in a booking, and 0 otherwise. \n",
      "\n",
      "I will also compare created dates, I noticed the bookings file has a created date and act_date, but this second date appears to apply to cancellations which I remove from the bookings list.\n",
      "\n",
      "Bookings are only one way."
     ]
    },
    {
     "cell_type": "code",
     "collapsed": false,
     "input": [
      "import pandas as pd"
     ],
     "language": "python",
     "metadata": {},
     "outputs": [],
     "prompt_number": 3
    },
    {
     "cell_type": "code",
     "collapsed": false,
     "input": [
      "data_searches = pd.read_csv('searches.csv',sep = '^', usecols=['Date','Origin', 'Destination','Seg1Date'])\n",
      "data_bookings = pd.read_csv('bookings.csv',sep = '^', nrows = 5, usecols=['cre_date           ','brd_time           ','dep_port','arr_port','pax'])\n",
      "\n",
      "data_bookings.rename(columns={'cre_date           ': 'cre_date','brd_time           ':'brd_date' }, inplace=True)"
     ],
     "language": "python",
     "metadata": {},
     "outputs": [],
     "prompt_number": 171
    },
    {
     "cell_type": "code",
     "collapsed": false,
     "input": [
      "data_bookings = data_bookings[data_bookings.pax >0]; # Remove cancellations as these will not match a search\n",
      "data_bookings.pop('pax');"
     ],
     "language": "python",
     "metadata": {},
     "outputs": [],
     "prompt_number": 140
    },
    {
     "cell_type": "code",
     "collapsed": false,
     "input": [
      "# Clean up strings for comparison\n",
      "data_bookings.cre_date = data_bookings.cre_date.str.slice(start = 0,stop = 10)\n",
      "data_bookings.dep_port = data_bookings.dep_port.str.slice(start = 0,stop = 3)\n",
      "data_bookings.arr_port = data_bookings.arr_port.str.slice(start = 0,stop = 3)\n",
      "data_bookings.brd_date = data_bookings.brd_date.str.slice(start = 0,stop = 10)"
     ],
     "language": "python",
     "metadata": {},
     "outputs": [],
     "prompt_number": 141
    },
    {
     "cell_type": "code",
     "collapsed": false,
     "input": [
      "cre_date = '2013-03-26'   #quick test to check formatting\n",
      "dep_port = 'SAL'\n",
      "arr_port = 'CLT'\n",
      "brd_date = '2013-04-12'\n",
      "\n",
      "indices = (data_searches.Date.str.match(cre_date) \n",
      "  & data_searches.Origin.str.match(dep_port)\n",
      "  & data_searches.Destination.str.match(arr_port)\n",
      "  & data_searches.Seg1Date.str.match(brd_date))\n",
      "\n",
      "indices.any()"
     ],
     "language": "python",
     "metadata": {},
     "outputs": [
      {
       "metadata": {},
       "output_type": "pyout",
       "prompt_number": 180,
       "text": [
        "True"
       ]
      }
     ],
     "prompt_number": 180
    },
    {
     "cell_type": "code",
     "collapsed": false,
     "input": [],
     "language": "python",
     "metadata": {},
     "outputs": []
    }
   ],
   "metadata": {}
  }
 ]
}