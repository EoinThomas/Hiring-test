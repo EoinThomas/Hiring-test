{
 "metadata": {
  "name": "",
  "signature": "sha256:13a3d1e618d88710181053f61c53f70f2d346a45406b55b6e90c72e2b0fdbcbe"
 },
 "nbformat": 3,
 "nbformat_minor": 0,
 "worksheets": [
  {
   "cells": [
    {
     "cell_type": "code",
     "collapsed": false,
     "input": [
      "cd D:/Python/Amadeus-hiring-test/"
     ],
     "language": "python",
     "metadata": {},
     "outputs": [
      {
       "output_type": "stream",
       "stream": "stdout",
       "text": [
        "D:\\Python\\Amadeus-hiring-test\n"
       ]
      }
     ],
     "prompt_number": 84
    },
    {
     "cell_type": "heading",
     "level": 1,
     "metadata": {},
     "source": [
      "Bonus exercise:  match searches with bookings "
     ]
    },
    {
     "cell_type": "markdown",
     "metadata": {},
     "source": [
      "For every search in the searches file, find out whether the search ended up in a booking or not (using the info in the bookings file). For instance, search and booking origin and destination should match. For the bookings file, origin and destination are the columns dep_port and arr_port, respectively. \n",
      "Generate a CSV file with the search data, and an additional field, containing 1 if the search ended up in a booking, and 0 otherwise. \n",
      "\n",
      "1) Date information is also crucial: when was the search made, and for which day (given by boarding time). I will also compare created dates, I noticed the bookings file has a created date and act_date, but this second date appears to differ from cre_date only in cancellations, which I remove from the bookings list.\n",
      "\n",
      "2) Bookings are only one way. I tried several options, but finally am using a comparison of dep_port to off_port, where dep_port is the original departure port of the booking, and off_port is the destination of the specific trip. If these are equal then the journey is the return leg of a booking, and should be removed from bookings. This reduces the size of bookings by ~1/2 in combination with the cancellations removal.\n",
      "\n",
      "3) Duplicate entries. I need to investigate whether the duplicates I can see (in both datasets) are due to unrestrictive matching or are there simply duplicates in the database. Multiple searches which usually occur on the same day are sometimes associated with a single booking. Currently, all these searches will be counted as \"booked\". Sometimes a single search will be matched to two different bookings, indicating that the matching is not completely accurate using the current criteria."
     ]
    },
    {
     "cell_type": "code",
     "collapsed": false,
     "input": [
      "import pandas as pd"
     ],
     "language": "python",
     "metadata": {},
     "outputs": [],
     "prompt_number": 85
    },
    {
     "cell_type": "markdown",
     "metadata": {},
     "source": [
      "Load bookings, remove cancellations and format column names and entries:"
     ]
    },
    {
     "cell_type": "code",
     "collapsed": false,
     "input": [
      "data_bookings = pd.read_csv('bookings.csv',nrows = 1000000,sep = '^', usecols=['cre_date           ','brd_time           ','dep_port','arr_port','pax','off_port'])\n",
      "data_bookings.rename(columns={'cre_date           ': 'booked_date','brd_time           ':'brd_date' }, inplace=True)\n",
      "\n",
      "data_bookings = data_bookings[data_bookings.pax >0]; # Remove cancellations as these will not match a search\n",
      "data_bookings.pop('pax');\n",
      "\n",
      "data_bookings = data_bookings[data_bookings.dep_port != data_bookings.off_port]; # Remove return leg of roundtrips\n",
      "data_bookings.pop('off_port');\n",
      "\n",
      "# Clean up strings for comparison\n",
      "data_bookings.booked_date = data_bookings.booked_date.str.slice(start = 0,stop = 10)\n",
      "data_bookings.dep_port = data_bookings.dep_port.str.slice(start = 0,stop = 3)\n",
      "data_bookings.arr_port = data_bookings.arr_port.str.slice(start = 0,stop = 3)\n",
      "data_bookings.brd_date = data_bookings.brd_date.str.slice(start = 0,stop = 10)"
     ],
     "language": "python",
     "metadata": {},
     "outputs": [],
     "prompt_number": 94
    },
    {
     "cell_type": "markdown",
     "metadata": {},
     "source": [
      "Load searches and rename columns to match bookings:"
     ]
    },
    {
     "cell_type": "code",
     "collapsed": false,
     "input": [
      "data_searches = pd.read_csv('searches.csv',nrows=1000000,sep = '^', usecols=['Date','Origin', 'Destination','Seg1Date'])\n",
      "data_searches.rename(columns={'Date':'searched_date','Origin': 'dep_port', 'Destination':'arr_port','Seg1Date':'brd_date'}, inplace=True) "
     ],
     "language": "python",
     "metadata": {},
     "outputs": [],
     "prompt_number": 95
    },
    {
     "cell_type": "markdown",
     "metadata": {},
     "source": [
      "Perform inner merge to obtain common entries in both dataframes. Keeping indexing so I can easily generate the labels:"
     ]
    },
    {
     "cell_type": "code",
     "collapsed": false,
     "input": [
      "merged_dataframes = pd.merge(data_searches,data_bookings,on=['dep_port','arr_port','brd_date'], right_index = True, how='inner')"
     ],
     "language": "python",
     "metadata": {},
     "outputs": [],
     "prompt_number": 96
    },
    {
     "cell_type": "markdown",
     "metadata": {},
     "source": [
      "I check that the search occured prior to the booking and remove bookings which happened before a search. Parsing the dates is time consuming, so this check is performed last."
     ]
    },
    {
     "cell_type": "code",
     "collapsed": false,
     "input": [
      "merged_dataframes.searched_date = pd.DatetimeIndex(merged_dataframes.searched_date)\n",
      "merged_dataframes.booked_date = pd.DatetimeIndex(merged_dataframes.booked_date)"
     ],
     "language": "python",
     "metadata": {},
     "outputs": [],
     "prompt_number": 97
    },
    {
     "cell_type": "code",
     "collapsed": false,
     "input": [
      "merged_dataframes = merged_dataframes[merged_dataframes.searched_date <= merged_dataframes.booked_date]"
     ],
     "language": "python",
     "metadata": {},
     "outputs": [],
     "prompt_number": 98
    },
    {
     "cell_type": "code",
     "collapsed": false,
     "input": [
      "booked_search_indices = merged_dataframes.index.unique() #multiple bookings pointed at by single search\n",
      "booked_search_indices.shape[0]"
     ],
     "language": "python",
     "metadata": {},
     "outputs": [
      {
       "metadata": {},
       "output_type": "pyout",
       "prompt_number": 99,
       "text": [
        "17730L"
       ]
      }
     ],
     "prompt_number": 99
    },
    {
     "cell_type": "code",
     "collapsed": false,
     "input": [
      "#write booked_search_indices to .csv"
     ],
     "language": "python",
     "metadata": {},
     "outputs": []
    }
   ],
   "metadata": {}
  }
 ]
}