{
 "metadata": {
  "name": "",
  "signature": "sha256:58974b1dfe8577c88afc46e7ec8cadea765cef12bfd0cf2777920a029e5f46f7"
 },
 "nbformat": 3,
 "nbformat_minor": 0,
 "worksheets": [
  {
   "cells": [
    {
     "cell_type": "code",
     "collapsed": false,
     "input": [
      "cd D:/Python/Amadeus-hiring-test/"
     ],
     "language": "python",
     "metadata": {},
     "outputs": [
      {
       "output_type": "stream",
       "stream": "stdout",
       "text": [
        "D:\\Python\\Amadeus-hiring-test\n"
       ]
      }
     ],
     "prompt_number": 1
    },
    {
     "cell_type": "heading",
     "level": 1,
     "metadata": {},
     "source": [
      "Exercise 2: Top 10 arrival airports"
     ]
    },
    {
     "cell_type": "markdown",
     "metadata": {},
     "source": [
      "Code based on pandas' groupby function. \n",
      "\n",
      "Note I originally loaded the \"year\" column, however all records are from 2013 (checked with unique()), so I no longer load this column from the csv.\n",
      "\n",
      "I notice that some airports have negative passenger totals. For now I will assume that this is due to a random sampling of the data over the full year.\n",
      "\n",
      "#### To do: get real aiport names using geobases"
     ]
    },
    {
     "cell_type": "code",
     "collapsed": false,
     "input": [
      "#year of flight\n",
      "#arr_port = IATA code for arrival airport\n",
      "#pax = passengers\n",
      "\n",
      "# Load relevant data\n",
      "import pandas as pd\n",
      "data_bookings = pd.read_csv('bookings.csv',sep = '^', usecols = ['arr_port','pax'])"
     ],
     "language": "python",
     "metadata": {},
     "outputs": [],
     "prompt_number": 2
    },
    {
     "cell_type": "code",
     "collapsed": false,
     "input": [
      "#groupby airports and sum over passengers\n",
      "gby_arr_port = data_bookings.groupby('arr_port')\n",
      "\n",
      "pax_per_port = gby_arr_port.pax.sum()\n",
      "pax_per_port.sort(ascending = 0)\n",
      "\n",
      "print 'Top ten arrival airports for 2013:'\n",
      "print pax_per_port[:10].to_string()\n"
     ],
     "language": "python",
     "metadata": {},
     "outputs": [
      {
       "output_type": "stream",
       "stream": "stdout",
       "text": [
        "Top ten arrival airports for 2013:\n",
        "LHR         88809\n",
        "MCO         70930\n",
        "LAX         70530\n",
        "LAS         69630\n",
        "JFK         66270\n",
        "CDG         64490\n",
        "BKK         59460\n",
        "MIA         58150\n",
        "SFO         58000\n",
        "DXB         55590\n"
       ]
      }
     ],
     "prompt_number": 3
    },
    {
     "cell_type": "code",
     "collapsed": false,
     "input": [
      "# To do: get real airport names using geobases"
     ],
     "language": "python",
     "metadata": {},
     "outputs": []
    }
   ],
   "metadata": {}
  }
 ]
}