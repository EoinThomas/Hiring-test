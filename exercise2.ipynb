{
 "metadata": {
  "name": "",
  "signature": "sha256:6118331539faa4981a6c8bbfbf8723f7fa2ed511615bd474f6a0b17d5c515a63"
 },
 "nbformat": 3,
 "nbformat_minor": 0,
 "worksheets": [
  {
   "cells": [
    {
     "cell_type": "code",
     "collapsed": false,
     "input": [
      "cd D:/Python/Amadeus-hiring-test/"
     ],
     "language": "python",
     "metadata": {},
     "outputs": [
      {
       "output_type": "stream",
       "stream": "stdout",
       "text": [
        "D:\\Python\\Amadeus-hiring-test\n"
       ]
      }
     ],
     "prompt_number": 62
    },
    {
     "cell_type": "heading",
     "level": 1,
     "metadata": {},
     "source": [
      "Exercise 2: Top 10 arrival airports"
     ]
    },
    {
     "cell_type": "markdown",
     "metadata": {},
     "source": [
      "Code based on pandas' groupby function. \n",
      "\n",
      "Note I originally loaded the \"year\" column, however all records are from 2013 (checked with unique()), so I no longer load this column from the csv.\n",
      "\n",
      "I notice that some airports have negative passenger totals. For now, I will assume that this is due to a random sampling of the data over the full year."
     ]
    },
    {
     "cell_type": "code",
     "collapsed": false,
     "input": [
      "import pandas as pd"
     ],
     "language": "python",
     "metadata": {},
     "outputs": [],
     "prompt_number": 63
    },
    {
     "cell_type": "markdown",
     "metadata": {},
     "source": [
      "GEOBASES issue: Unfortunately, I am having compatibility issues with geobases and winpython on windows 7. This is preventing a complete build of geobases. fixing this compatibility issue is too time consuming given the deadline set for this test, as such I am instead going to use the data from Geobases directly without installing the modules. The correct code is commented out in the next cell.\n"
     ]
    },
    {
     "cell_type": "code",
     "collapsed": false,
     "input": [
      "#### Code to use upon Geobase module installation\n",
      "#from GeoBases import GeoBase\n",
      "#geo_o = GeoBase(data='ori_por', verbose=False)\n",
      "#geo_o.get(an_iata_code, 'name')"
     ],
     "language": "python",
     "metadata": {},
     "outputs": [],
     "prompt_number": 64
    },
    {
     "cell_type": "code",
     "collapsed": false,
     "input": [
      "#iata code to name dictionary built to replace geobase module\n",
      "airport_codes = pd.read_csv('D:/Python/geobases/GeoBases/DataSources/Airports/GeoNames/airports_geonames_only_clean.csv',sep = '^', header = None, names = ['code1','name','code2','ctry_code','ctry','lat','lon'])\n",
      "airport_codes = airport_codes[['code1','name']]\n",
      "code2name = dict(zip(airport_codes['code1'],airport_codes['name']))\n",
      "del airport_codes"
     ],
     "language": "python",
     "metadata": {},
     "outputs": [],
     "prompt_number": 65
    },
    {
     "cell_type": "code",
     "collapsed": false,
     "input": [
      "data_bookings = pd.read_csv('bookings.csv',sep = '^', usecols = ['arr_port','pax'])\n",
      "data_bookings.arr_port = data_bookings.arr_port.str.slice(start = 0,stop = 3)"
     ],
     "language": "python",
     "metadata": {},
     "outputs": [],
     "prompt_number": 66
    },
    {
     "cell_type": "code",
     "collapsed": false,
     "input": [
      "#groupby airports and sum over passengers\n",
      "gby_arr_port = data_bookings.groupby('arr_port')\n",
      "pax_per_port = gby_arr_port.pax.sum()\n",
      "pax_per_port.sort(ascending = 0)"
     ],
     "language": "python",
     "metadata": {},
     "outputs": [],
     "prompt_number": 67
    },
    {
     "cell_type": "code",
     "collapsed": false,
     "input": [
      "n_ports = 10    "
     ],
     "language": "python",
     "metadata": {},
     "outputs": [],
     "prompt_number": 68
    },
    {
     "cell_type": "code",
     "collapsed": false,
     "input": [
      "print 'The top airports for 2013 are:'\n",
      "print ' '\n",
      "print 'Passengers   Airport'\n",
      "\n",
      "for i in range(n_ports):\n",
      "    print int(pax_per_port.values[i]), '      ' , code2name[pax_per_port.index.values[i]]\n"
     ],
     "language": "python",
     "metadata": {},
     "outputs": [
      {
       "output_type": "stream",
       "stream": "stdout",
       "text": [
        "The top airports for 2013 are:\n",
        " \n",
        "Passengers   Airport\n",
        "88809        London Heathrow Airport\n",
        "70930        Orlando International Airport\n",
        "70530        Los Angeles International Airport\n",
        "69630        McCarran International Airport\n",
        "66270        John F Kennedy International Airport\n",
        "64490        Paris - Charles-de-Gaulle\n",
        "59460        Suvarnabhumi\n",
        "58150        Miami International Airport\n",
        "58000        San Francisco International Airport\n",
        "55590        Dubai International Airport\n"
       ]
      }
     ],
     "prompt_number": 69
    }
   ],
   "metadata": {}
  }
 ]
}